{
  "nbformat": 4,
  "nbformat_minor": 0,
  "metadata": {
    "colab": {
      "private_outputs": true,
      "provenance": [],
      "authorship_tag": "ABX9TyPe2ff80LbhuTsx7a0V1pp9",
      "include_colab_link": true
    },
    "kernelspec": {
      "name": "python3",
      "display_name": "Python 3"
    },
    "language_info": {
      "name": "python"
    },
    "accelerator": "GPU",
    "gpuClass": "standard"
  },
  "cells": [
    {
      "cell_type": "markdown",
      "metadata": {
        "id": "view-in-github",
        "colab_type": "text"
      },
      "source": [
        "<a href=\"https://colab.research.google.com/github/RodolfoFerro/human-motion-prediction-pytorch/blob/master/notebooks/human_motion_prediction_Full_Colab_Example.ipynb\" target=\"_parent\"><img src=\"https://colab.research.google.com/assets/colab-badge.svg\" alt=\"Open In Colab\"/></a>"
      ]
    },
    {
      "cell_type": "markdown",
      "source": [
        "# human-motion-prediction 🕺🏻\n",
        "\n",
        "> **Note:** This repo is a fork of this one: https://github.com/cimat-ris/human-motion-prediction-pytorch\n",
        ">\n",
        "> The code has been refactored preserving the logic and structure, but adding functionalities to run it in Google Colab.\n",
        "\n",
        "> Pytorch implementation of:\n",
        ">\n",
        "> &nbsp;&nbsp; Julieta Martinez, Michael J. Black, Javier Romero. _**On human motion prediction using recurrent neural networks**_. In CVPR 17.\n",
        "> \n",
        "> The paper can be found on arXiv: [https://arxiv.org/pdf/1705.02445.pdf](https://arxiv.org/pdf/1705.02445.pdf)\n",
        "\n",
        "Find the repo of this code here: https://github.com/RodolfoFerro/human-motion-prediction-pytorch.git"
      ],
      "metadata": {
        "id": "c-rYhlrqjfKB"
      }
    },
    {
      "cell_type": "markdown",
      "source": [
        "Clone the repository with code:"
      ],
      "metadata": {
        "id": "nIRUGFRuI3fM"
      }
    },
    {
      "cell_type": "code",
      "execution_count": null,
      "metadata": {
        "id": "clx0j84MItLV"
      },
      "outputs": [],
      "source": [
        "!git clone https://github.com/RodolfoFerro/human-motion-prediction-pytorch.git\n",
        "%cd human-motion-prediction-pytorch\n",
        "!ls"
      ]
    },
    {
      "cell_type": "markdown",
      "source": [
        "Dowload the data:\n",
        "\n",
        "> We need to install `gdown` to download the data from Google Drive into our local folder."
      ],
      "metadata": {
        "id": "5B3NqbOKI7yM"
      }
    },
    {
      "cell_type": "code",
      "source": [
        "!pip install gdown -q"
      ],
      "metadata": {
        "id": "PNoKa9WRJH6_"
      },
      "execution_count": null,
      "outputs": []
    },
    {
      "cell_type": "code",
      "source": [
        "!mkdir data\n",
        "%cd data\n",
        "\n",
        "!gdown https://drive.google.com/uc?id=1hqE6GrWZTBjVzmbehUBO7NTrbEgDNqbH\n",
        "!unzip -q h3.6m.zip\n",
        "!rm h3.6m.zip\n",
        "%cd ..\n",
        "!ls"
      ],
      "metadata": {
        "id": "dIzTfB-3I7dN"
      },
      "execution_count": null,
      "outputs": []
    },
    {
      "cell_type": "markdown",
      "source": [
        "You can define parameters by creating a dictionary:"
      ],
      "metadata": {
        "id": "dq2y6TWgJTF2"
      }
    },
    {
      "cell_type": "code",
      "source": [
        "import os\n",
        "\n",
        "from src.parsers import training_parser_from_dict\n",
        "\n",
        "\n",
        "training_params = {\n",
        "    'learning_rate': 0.00001,\n",
        "    'learning_rate_decay_factor': 0.95,\n",
        "    'learning_rate_step': 10000,\n",
        "    'batch_size': 128,\n",
        "    'iterations': int(1e3), # Must be an integer\n",
        "    'test_every': 100,\n",
        "    'size': 512,\n",
        "    'seq_length_in': 50,\n",
        "    'seq_length_out': 10,\n",
        "    'data_dir': os.path.normpath('./data/h3.6m/dataset'),\n",
        "    'train_dir': os.path.normpath('./experiments/'),\n",
        "    'action': 'all',\n",
        "    'log_file': '',\n",
        "    'log_level': 20\n",
        "}\n",
        "\n",
        "args = training_parser_from_dict(training_params)\n",
        "args"
      ],
      "metadata": {
        "id": "e2SqmjOjJNUl"
      },
      "execution_count": null,
      "outputs": []
    },
    {
      "cell_type": "markdown",
      "source": [
        "You can now train a model:"
      ],
      "metadata": {
        "id": "h-o-PB5YPjXe"
      }
    },
    {
      "cell_type": "code",
      "source": [
        "from src.train import train\n",
        "\n",
        "\n",
        "train(args)"
      ],
      "metadata": {
        "id": "8S_2kwwIPhgk"
      },
      "execution_count": null,
      "outputs": []
    },
    {
      "cell_type": "markdown",
      "source": [
        "Once the model is trained, you can test it."
      ],
      "metadata": {
        "id": "dnEsx4ECU4YX"
      }
    },
    {
      "cell_type": "code",
      "source": [
        "from src.parsers import testing_parser_from_dict\n",
        "\n",
        "\n",
        "testing_params = {\n",
        "    'learning_rate': 0.00001,\n",
        "    'batch_size': 128,\n",
        "    'iterations': int(1e3),\n",
        "    'size': 512,\n",
        "    'seq_length_out': 10,\n",
        "    'horizon_test_step': 25,\n",
        "    'data_dir': os.path.normpath('./data/h3.6m/dataset'),\n",
        "    'train_dir': os.path.normpath('./experiments/'),\n",
        "    'action': 'all',\n",
        "    'load_model': 1000,\n",
        "    'log_level': 20,\n",
        "    'log_file': '',\n",
        "}\n",
        "\n",
        "args = testing_parser_from_dict(testing_params)\n",
        "args"
      ],
      "metadata": {
        "id": "pvBKixYOSrv7"
      },
      "execution_count": null,
      "outputs": []
    },
    {
      "cell_type": "code",
      "source": [
        "from src.test import test\n",
        "\n",
        "\n",
        "test(args)"
      ],
      "metadata": {
        "id": "rxdXJF03VhU7"
      },
      "execution_count": null,
      "outputs": []
    },
    {
      "cell_type": "markdown",
      "source": [
        "After testing the model, you can create an animation of the results. This will save all the output frames so we can later create a gif animation."
      ],
      "metadata": {
        "id": "ZnDLx9jGVo9f"
      }
    },
    {
      "cell_type": "code",
      "source": [
        "from src.parsers import animation_parser_from_dict\n",
        "\n",
        "\n",
        "animation_params = {\n",
        "    'sample_id': 0,\n",
        "    'imgs_dir': os.path.normpath('./images/')\n",
        "}\n",
        "\n",
        "args = animation_parser_from_dict(animation_params)\n",
        "args"
      ],
      "metadata": {
        "id": "xk4LY2_mdFgY"
      },
      "execution_count": null,
      "outputs": []
    },
    {
      "cell_type": "code",
      "source": [
        "from src.animate import animate\n",
        "\n",
        "\n",
        "animate(args)"
      ],
      "metadata": {
        "id": "GZtN3Y92Vtow"
      },
      "execution_count": null,
      "outputs": []
    },
    {
      "cell_type": "markdown",
      "source": [
        "Let's create the gif animation."
      ],
      "metadata": {
        "id": "0vqgX91djTE4"
      }
    },
    {
      "cell_type": "code",
      "source": [
        "from src.animate import create_gif\n",
        "\n",
        "\n",
        "create_gif('./images/', '.', filename='animation.gif')"
      ],
      "metadata": {
        "id": "aMfu-tP0ax6Q"
      },
      "execution_count": null,
      "outputs": []
    },
    {
      "cell_type": "markdown",
      "source": [
        "Congrats, you're done! 🎉\n",
        "\n",
        "---"
      ],
      "metadata": {
        "id": "u878yxVjg8Vb"
      }
    }
  ]
}